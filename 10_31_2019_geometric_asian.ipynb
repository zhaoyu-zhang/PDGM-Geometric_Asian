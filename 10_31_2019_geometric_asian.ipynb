{
 "cells": [
  {
   "cell_type": "markdown",
   "metadata": {
    "colab_type": "text",
    "id": "ovNu_BcOCO5G"
   },
   "source": [
    "# Functional Feynman-Kac Formula [Dupire (2009)]\n",
    "\n",
    "Let $x$ be a process given by the SDE \n",
    "$$dx_s = \\mu(X_s) ds + \\sigma(X_s) dw_x.$$\n",
    "\n",
    "Consider functionals $g :\\Lambda_T \\longrightarrow R$, $\\lambda: \\Lambda \\longrightarrow R$ and $k:\\Lambda \\longrightarrow R$ and define the functional $f$ as\n",
    "$$f(Y_t) = E\\left[\\left.e^{-\\int_t^T \\lambda(X_u) du} g(X_T) + \\int_t^T e^{-\\int_t^s \\lambda(X_u) du} k(X_s) ds \\ \\right| \\ Y_t \\right],$$\n",
    "for any path $Y_t \\in \\Lambda$, $t \\in [0,T]$ Thus, if $f \\in C^{1,2}$ and $k$, $\\lambda$, $\\mu$ and $\\sigma$ are $\\Lambda$-continuous, then $f$ satisfies the Path-dependent Partial Differential Equation (PPDE):\n",
    "\\begin{align}\\label{eq:feynman-kac-equation}\n",
    "\\Delta_t f(Y_t) + \\mu(Y_t) \\Delta_x f(Y_t)  + \\frac{1}{2} \\sigma^2(Y_t) \\Delta_{xx} f(Y_t) - \\lambda(Y_t)f(Y_t) + k(Y_t) = 0,\n",
    "\\end{align}\n",
    "with $f(Y_T) = g(Y_T)$, for any $Y_t$ in the topological support of $x$.\n",
    "\n"
   ]
  },
  {
   "cell_type": "markdown",
   "metadata": {
    "colab_type": "text",
    "id": "fX3ftXskCO5K"
   },
   "source": [
    "# Geometric Asian Option\n",
    "\n",
    "Under Black--Scholes setting, where the spot value follows a Geometric Brownian Motion with constant parameters\n",
    "$$dx_t = (r - q)x_tdt + \\sigma x_t dw_t.$$\n",
    "\n",
    "Under this model, the price of a geometric Asian optin with maturity $T$ and payoff $g: \\Lambda_T \\longrightarrow R$ solves the PPDE\n",
    "\\begin{align}\\label{eqn:PPDE_BS}\n",
    "\\begin{cases}\n",
    "\\Delta_t f(Y_t) + (r - q) y_t \\Delta_x f(Y_t) + \\displaystyle \\frac{1}{2}\\sigma^2 y_t^2 \\Delta_{xx} f(Y_t) - r f(Y_t) = 0,\\\\[10pt]\n",
    "f(Y_T) = g(Y_T) = \\left(\\exp\\left\\{\\frac{1}{T} \\int_0^T \\log y_t dt \\right\\} - K\\right)^+.\n",
    "\\end{cases}\n",
    "\\end{align}"
   ]
  },
  {
   "cell_type": "markdown",
   "metadata": {
    "colab_type": "text",
    "id": "UwjzeQR6CO5K"
   },
   "source": [
    "# Our Method\n",
    "\n",
    "Approximate $f(X_t)$ using a combination of LSTM network and a feedforward NN, and use finite difference to find gradients. See detail in paper."
   ]
  },
  {
   "cell_type": "code",
   "execution_count": 1,
   "metadata": {
    "colab": {
     "base_uri": "https://localhost:8080/",
     "height": 34
    },
    "colab_type": "code",
    "id": "vy1FV1o1CO5L",
    "outputId": "d8c98fe8-46d4-464e-cbc2-fb58aaa731ef"
   },
   "outputs": [
    {
     "name": "stderr",
     "output_type": "stream",
     "text": [
      "Using TensorFlow backend.\n"
     ]
    }
   ],
   "source": [
    "\"\"\"\n",
    "    Python 3.5\n",
    "    Keras 2.2.2\n",
    "    Tensorflow 1.10.0\n",
    "\"\"\"\n",
    "import numpy as np\n",
    "import matplotlib.pyplot as plt\n",
    "%matplotlib inline \n",
    "from scipy.stats import norm\n",
    "import tensorflow as tf\n",
    "import time as ttt\n",
    "\n",
    "import keras.backend as K\n",
    "from keras.backend.tensorflow_backend import set_session\n",
    "from keras.models import Sequential\n",
    "from keras.layers import Dense, Activation,LSTM\n",
    "from keras.optimizers import Adam\n",
    "from keras.regularizers import L1L2\n",
    "\n"
   ]
  },
  {
   "cell_type": "code",
   "execution_count": 2,
   "metadata": {
    "colab": {},
    "colab_type": "code",
    "id": "ME289BV8CO5Q"
   },
   "outputs": [],
   "source": [
    "config = tf.ConfigProto()\n",
    "config.gpu_options.allow_growth = True  \n",
    "config.log_device_placement = True                           \n",
    "sess = tf.InteractiveSession(config=config)\n",
    "set_session(sess)  # set TensorFlow session as the default session for Keras"
   ]
  },
  {
   "cell_type": "code",
   "execution_count": 3,
   "metadata": {
    "colab": {},
    "colab_type": "code",
    "id": "TuIOdxv0CO5S"
   },
   "outputs": [],
   "source": [
    "M = 128 # number of samples in a batch\n",
    "T = 1 # terminal time\n",
    "dt = 0.01 # detla_t = 0.01, 0.005, 0.002, 0.001\n",
    "steps = int(T/dt) # number of time steps\n",
    "r = 0.03\n",
    "q = 0.01 \n",
    "sigma = 1\n",
    "x_0 = 1.0 # X_0 \n",
    "Strike = 0.4 #Strike Price"
   ]
  },
  {
   "cell_type": "code",
   "execution_count": 4,
   "metadata": {
    "colab": {},
    "colab_type": "code",
    "id": "wP0JLV6PCO5Y"
   },
   "outputs": [],
   "source": [
    "def generate_t(T, steps, M = M):\n",
    "    '''\n",
    "    time discretization (M * (steps+1 +1)) \n",
    "    for computing the time derivative, we need an extra time step.\n",
    "    '''\n",
    "    t_temp = np.linspace(1e-6, T- 1e-6, steps +1, dtype = np.float32)\n",
    "    return np.tile(np.concatenate((t_temp, [T + dt])), (M,1)) # extra after terminal"
   ]
  },
  {
   "cell_type": "code",
   "execution_count": 5,
   "metadata": {
    "colab": {
     "base_uri": "https://localhost:8080/",
     "height": 34
    },
    "colab_type": "code",
    "id": "1A0qQKR3CO5b",
    "outputId": "f6d2066b-f9d4-406f-8331-30c9b45bc8b3"
   },
   "outputs": [
    {
     "name": "stdout",
     "output_type": "stream",
     "text": [
      "the length of t is 102\n"
     ]
    }
   ],
   "source": [
    "# for example\n",
    "t = generate_t(T, steps)[0][0:-1]\n",
    "print(\"the length of t is {}\".format(len(t)+1))"
   ]
  },
  {
   "cell_type": "code",
   "execution_count": 6,
   "metadata": {
    "colab": {},
    "colab_type": "code",
    "id": "4nvseGcECO5h"
   },
   "outputs": [],
   "source": [
    "def Create_paths(i, M):\n",
    "    '''\n",
    "    GBM paths (M * (steps+1)) with seed i\n",
    "    number of steps could be 100, 200, 500, 1000.\n",
    "    '''\n",
    "    \n",
    "    # generate time steps for each path\n",
    "    np.random.seed(i)\n",
    "    x = np.tile(x_0, (M, 1))\n",
    "    path = np.tile(x_0, (M, 1))\n",
    "    delta = T/1000\n",
    "    \n",
    "    dW = np.sqrt(delta)*np.random.normal(size=(M, 1000))\n",
    "    for k in range(1000):\n",
    "        x += (r-q) * x * delta + sigma * x * dW[:,k:k+1]\n",
    "        path = np.concatenate((path, x), axis = 1)\n",
    "        \n",
    "    #  select # of steps (100, 200, 500, 1000) from total 1000 timesteps\n",
    "    selection = np.linspace(0,1000, steps+1, dtype = np.int) \n",
    "    path = np.array(path, dtype=np.float32)\n",
    "    path_selection = path[:,selection]\n",
    "\n",
    "    return np.array(path_selection, dtype=np.float32)"
   ]
  },
  {
   "cell_type": "code",
   "execution_count": 7,
   "metadata": {
    "colab": {
     "base_uri": "https://localhost:8080/",
     "height": 298
    },
    "colab_type": "code",
    "id": "8vFKGD9cCO5n",
    "outputId": "97aef55b-ef8e-494c-f32c-a80c981e17b1"
   },
   "outputs": [
    {
     "data": {
      "text/plain": [
       "Text(0.5, 0, 'Time')"
      ]
     },
     "execution_count": 7,
     "metadata": {},
     "output_type": "execute_result"
    },
    {
     "data": {
      "image/png": "[encoded data removed]",
      "text/plain": [
       "<Figure size 432x288 with 1 Axes>"
      ]
     },
     "metadata": {
      "needs_background": "light"
     },
     "output_type": "display_data"
    }
   ],
   "source": [
    "for i in range(16):\n",
    "    plt.plot(t, Create_paths(100000000, M)[i])\n",
    "plt.title(\"16 samples paths\")\n",
    "plt.xlabel(\"Time\")"
   ]
  },
  {
   "cell_type": "code",
   "execution_count": 8,
   "metadata": {
    "colab": {},
    "colab_type": "code",
    "id": "nA4u1xhsCO5p"
   },
   "outputs": [],
   "source": [
    "# input time and path as placeholders\n",
    "path = tf.placeholder(dtype=tf.float32, shape=[M,steps+1])\n",
    "time = tf.placeholder(dtype = tf.float32, shape = [M, steps +1 + 1]) # extra after T"
   ]
  },
  {
   "cell_type": "markdown",
   "metadata": {
    "colab_type": "text",
    "id": "k7PR4_mtCO5s"
   },
   "source": [
    "## True Solution and Terminal Condition"
   ]
  },
  {
   "cell_type": "markdown",
   "metadata": {},
   "source": [
    " A closed-form solution is available in this case:\n",
    "$$f(Y_t) = e^{-r(T-t)} \\left(G_t^{t/T}y_t^{1 - t/T} e^{\\bar{\\mu} + \\bar{\\sigma}^2/2} \\Phi(d_1) - K\\Phi(d_2) \\right),$$\n",
    "where $\\Phi$ is the cumulative distribution function of the standard normal,\n",
    "\\begin{align}\n",
    "G_t &= \\exp\\left\\{\\frac{1}{t} \\int_0^t \\log y_u du \\right\\}\\\\\n",
    "\\bar{\\mu} &= \\left(r - q - \\frac{\\sigma^2}{2}\\right)\\frac{1}{2T}(T-t)^2,\\\\\n",
    "\\bar{\\sigma} &= \\frac{\\sigma}{T} \\sqrt{\\frac{1}{3}(T-t)^3},\\\\\n",
    "d_2 &= \\frac{(t/T) \\log G_t + \\left(1 - t/T\\right) \\log y_t + \\bar{\\mu} - \\log K}{\\bar{\\sigma}},\\\\\n",
    "d_1 &= d_2 + \\bar{\\sigma}.\n",
    "\\end{align}\n",
    "In the numerical examples below, we fix the strike price to $K = 0.4$. "
   ]
  },
  {
   "cell_type": "code",
   "execution_count": 9,
   "metadata": {
    "colab": {},
    "colab_type": "code",
    "id": "KYSGc91sCO5t"
   },
   "outputs": [],
   "source": [
    "def true_solution(apath):\n",
    "    '''\n",
    "    Givin a path, it outputs the true solution.\n",
    "    '''\n",
    "    G = 1\n",
    "    mu_bar = (r-q-sigma**2/2)/2/T * (T-t[0])**2\n",
    "    sigma_bar = sigma/T * np.sqrt(1/3*(T-t[0])**3)\n",
    "    d_2 = 1/sigma_bar * (t[0]/T * np.log(G) + (1 - t[0]/T) * np.log(apath[0]) + mu_bar - np.log(Strike))\n",
    "    d_1 = d_2 + sigma_bar\n",
    "    true_solution = [np.exp(-r*(T - t[0])) * ( G**(t[0]/T) * (apath[0] **(1-t[0]/T)) * np.exp(mu_bar + sigma_bar**2/2) * norm.cdf(d_1) \n",
    "                    - Strike * norm.cdf(d_2))]\n",
    "    \n",
    "    for k in range(1, steps+1):\n",
    "        G = np.exp(1/t[k] * np.sum((np.log(apath[1:k+1]) + np.log(apath[:k]) )/2)*dt)\n",
    "        mu_bar = (r-q-sigma**2/2)/2/T * (T-t[k])**2\n",
    "        sigma_bar = sigma/T * np.sqrt(1/3*(T-t[k])**3)\n",
    "        d_2 = 1/sigma_bar * (t[k]/T * np.log(G) + (1 - t[k]/T) * np.log(apath[k]) + mu_bar - np.log(Strike))\n",
    "        d_1 = d_2 + sigma_bar\n",
    "        true_solution.append(np.exp(-r*(T - t[k])) * (G**(t[k]/T) * (apath[k] **(1-t[k]/T)) * np.exp(mu_bar + sigma_bar**2/2) * norm.cdf(d_1) \n",
    "                        - Strike * norm.cdf(d_2)))\n",
    "\n",
    "    return true_solution"
   ]
  },
  {
   "cell_type": "code",
   "execution_count": 10,
   "metadata": {
    "colab": {},
    "colab_type": "code",
    "id": "pARTfnztCO5u"
   },
   "outputs": [],
   "source": [
    "def terminal_condition(apath):\n",
    "    '''\n",
    "    Givin a path, it outputs the terminal condition g(Y_T).\n",
    "    '''\n",
    "    \n",
    "    return np.maximum(np.exp(1/T*sum( (np.log(apath[1:]) + np.log(apath[:-1]) )/2)*dt) - Strike,0)"
   ]
  },
  {
   "cell_type": "code",
   "execution_count": 11,
   "metadata": {
    "colab": {
     "base_uri": "https://localhost:8080/",
     "height": 545
    },
    "colab_type": "code",
    "id": "o2x-wy_FCO5y",
    "outputId": "547bca76-ec3d-4688-94f1-338420039e8a",
    "scrolled": false
   },
   "outputs": [
    {
     "data": {
      "image/png": "[encoded data removed]",
      "text/plain": [
       "<Figure size 432x288 with 1 Axes>"
      ]
     },
     "metadata": {
      "needs_background": "light"
     },
     "output_type": "display_data"
    },
    {
     "data": {
      "image/png": "[encoded data removed]",
      "text/plain": [
       "<Figure size 432x288 with 1 Axes>"
      ]
     },
     "metadata": {
      "needs_background": "light"
     },
     "output_type": "display_data"
    }
   ],
   "source": [
    "# for example given a GBM path\n",
    "path1 = Create_paths(100000000, M)[1]\n",
    "plt.plot(t, path1)\n",
    "plt.title(\"One sample path $Y_t$\")\n",
    "plt.show()\n",
    "\n",
    "plt.plot(t, true_solution(path1))\n",
    "plt.plot(T, terminal_condition(path1), \"ro\")\n",
    "plt.title(\"The corresponding true solution f(Y_t)\")\n",
    "plt.show()"
   ]
  },
  {
   "cell_type": "markdown",
   "metadata": {
    "colab_type": "text",
    "id": "R0S7_nn_CO52"
   },
   "source": [
    "## Neural Network Setup\n",
    "\n",
    "The path-dependent function $f(X_t)$ is been approximated by a combination of LSTM and a feedforward neural network."
   ]
  },
  {
   "cell_type": "code",
   "execution_count": 12,
   "metadata": {
    "colab": {
     "base_uri": "https://localhost:8080/",
     "height": 85
    },
    "colab_type": "code",
    "id": "XX1Lo5LoCO54",
    "outputId": "ae4d4678-aa8f-4af7-bdba-8a10f68c7bf5"
   },
   "outputs": [],
   "source": [
    "n_a = 128 # number of hidden neurons in the LSTM network\n",
    "LSTM_cell = LSTM(n_a, return_state = True) # This is used to capture the long term dependency\n",
    "\n",
    "# This feedforward neural network is used to compute the derivatives.\n",
    "# input dimension is (1+1+n_a) = (space, time, path (which is characterized by n_a hidden neurons))\n",
    "NN = Sequential([\n",
    "    Dense(128, input_shape=(1+1+n_a,)),\n",
    "    Activation('tanh'),\n",
    "    Dense(128),\n",
    "    Activation('tanh'),\n",
    "    Dense(128),\n",
    "    Activation('tanh'),\n",
    "    Dense(1)\n",
    "])"
   ]
  },
  {
   "cell_type": "markdown",
   "metadata": {
    "colab_type": "text",
    "id": "IAy7S1LDCO57"
   },
   "source": [
    "## Objective Function\n",
    "\n",
    "\\begin{align}\\label{eq:loss_NM}\n",
    "J_{N,M}(\\theta) = \\frac{1}{M} \\frac{1}{N}\\sum_{j=1}^M \\sum_{i=0}^N \\left(\\Delta_{t} u(Y^{(j)}_{t_i};\\theta) + L u(Y^{(j)}_{t_i};\\theta)\\right)^2 +  \\frac{1}{M}\\sum_{j=1}^M \\left(u(Y^{(j)}_{t_N}; \\theta) - g(Y_{t_N}^{(j)}) \\right)^2.\n",
    "\\end{align}"
   ]
  },
  {
   "cell_type": "code",
   "execution_count": 13,
   "metadata": {
    "colab": {},
    "colab_type": "code",
    "id": "I6bwUvI0CO58"
   },
   "outputs": [],
   "source": [
    "def loss_function(time,path, M):\n",
    "    \n",
    "    a = tf.Variable(tf.zeros([M, n_a]), trainable=False)\n",
    "    c = tf.Variable(tf.zeros([M, n_a]), trainable=False)\n",
    "\n",
    "##. Approximate f(X_{t_0})\n",
    "    input_x = K.slice(path, [0,0], [M,1])\n",
    "    input_t = K.slice(time, [0,0], [M,1])\n",
    "    inputt_f = K.concatenate([input_x, input_t, a])\n",
    "    f = NN(inputt_f)\n",
    "                      \n",
    "##.   calculate space derivatives\n",
    "    bump = 0.01 * input_x\n",
    "    input_x_up = input_x + bump\n",
    "    inputt_up = K.concatenate([input_x_up, input_t, a])\n",
    "    f_up = NN(inputt_up)\n",
    "    input_x_down = input_x - bump\n",
    "    inputt_down = K.concatenate([input_x_down, input_t, a])\n",
    "    f_down = NN(inputt_down)\n",
    "    partial_x_f = (f_up - f)/bump\n",
    "    partial_xx_f = (f_up - 2*f + f_down)/bump/bump\n",
    "\n",
    "##. Next LSTM cell\n",
    "    input_x_reshape = tf.reshape(input_x, (M,1,1))\n",
    "    input_t_reshape = tf.reshape(input_t, (M,1,1))\n",
    "    inputt = K.concatenate([input_x_reshape, input_t_reshape])\n",
    "    a, _, c = LSTM_cell(inputt, initial_state = [a, c])\n",
    "    \n",
    "##.   calculate time derivative\n",
    "    input_t_time = K.slice(time, [0, 1], [M, 1])\n",
    "    inputt_time = K.concatenate([input_x, input_t_time, a])\n",
    "    f_flat = NN(inputt_time)\n",
    "    partial_t_f = (f_flat - f)/dt\n",
    "    \n",
    "    Loss = tf.reduce_sum(tf.square(partial_t_f + (r-q)*input_x * partial_x_f + 0.5 * sigma**2 * input_x **2 * partial_xx_f - r * f)) \n",
    "\n",
    "    solution = f\n",
    "    time_derivative = partial_t_f \n",
    "    space_derivative = partial_x_f\n",
    "    space_2nd_derivative = partial_xx_f\n",
    "\n",
    "    #############################################################################\n",
    "    for i in range(1, steps+1): # Iterate through every timestep\n",
    "        \n",
    "        ##. Approximate f(X_{t_i})\n",
    "        input_x = K.slice(path, [0,i], [M,1])\n",
    "        input_t = K.slice(time, [0,i], [M,1])\n",
    "        inputt_f = K.concatenate([input_x, input_t, a])\n",
    "        f = NN(inputt_f)\n",
    "        \n",
    "        ##. calculate space derivative\n",
    "        bump = 0.01 * input_x\n",
    "        input_x_up = input_x + bump\n",
    "        inputt_up = K.concatenate([input_x_up, input_t, a])\n",
    "        f_up = NN(inputt_up)\n",
    "        input_x_down = input_x - bump\n",
    "        inputt_down = K.concatenate([input_x_down, input_t, a])\n",
    "        f_down = NN(inputt_down)\n",
    "        partial_x_f = (f_up - f)/bump\n",
    "        partial_xx_f = (f_up - 2*f + f_down)/bump/bump\n",
    "    \n",
    "        ##. Next LSTM cell\n",
    "        input_x_reshape = tf.reshape(input_x, (M,1,1))\n",
    "        input_t_reshape = tf.reshape(input_t, (M,1,1))\n",
    "        inputt = K.concatenate([input_x_reshape, input_t_reshape])\n",
    "        a, _, c = LSTM_cell(inputt, initial_state = [a, c])\n",
    "\n",
    "        ##. calculate time derivative\n",
    "        input_t_time = K.slice(time, [0, i+1], [M, 1])\n",
    "        inputt_time = K.concatenate([input_x, input_t_time, a])\n",
    "        f_flat = NN(inputt_time)\n",
    "        partial_t_f = (f_flat - f)/dt\n",
    "        \n",
    "        Loss += tf.reduce_sum(tf.square(partial_t_f + (r-q) * input_x * partial_x_f + 0.5*sigma**2 * input_x **2 *partial_xx_f - r* f)) \n",
    "\n",
    "        solution = K.concatenate([solution, f]) \n",
    "        time_derivative = K.concatenate([time_derivative, partial_t_f]) \n",
    "        space_derivative = K.concatenate([space_derivative, partial_x_f])\n",
    "        space_2nd_derivative = K.concatenate([space_2nd_derivative, partial_xx_f])\n",
    "\n",
    "    #############################################################################\n",
    "    ##. Terminal cost\n",
    "    Loss += tf.reduce_sum( tf.square( f - tf.math.maximum(tf.exp(1/T*tf.reduce_sum((tf.log(path[:,1:]) + tf.log(path[:, :-1]))/2 * dt, axis= 1, keepdims=True))- Strike, 0)))*steps\n",
    "\n",
    "    return Loss/M/steps, solution, time_derivative, space_derivative, space_2nd_derivative"
   ]
  },
  {
   "cell_type": "markdown",
   "metadata": {
    "colab_type": "text",
    "id": "0bfiwRi0CO6F"
   },
   "source": [
    "## SGD"
   ]
  },
  {
   "cell_type": "code",
   "execution_count": 14,
   "metadata": {
    "colab": {},
    "colab_type": "code",
    "id": "lfeBKp7sCO6H"
   },
   "outputs": [],
   "source": [
    "Epoch = 20000+1"
   ]
  },
  {
   "cell_type": "code",
   "execution_count": 15,
   "metadata": {
    "colab": {},
    "colab_type": "code",
    "id": "DrL12o58CO6L"
   },
   "outputs": [],
   "source": [
    "loss, solution, time_derivative, space_derivative, space_2nd_derivative = loss_function(time, path, M)"
   ]
  },
  {
   "cell_type": "code",
   "execution_count": 16,
   "metadata": {
    "colab": {
     "base_uri": "https://localhost:8080/",
     "height": 204
    },
    "colab_type": "code",
    "id": "cS2EsHjaCO6O",
    "outputId": "97077842-bfcb-4749-9b01-69170ec3f119"
   },
   "outputs": [
    {
     "ename": "NotFoundError",
     "evalue": "C:\\Users\\zhaoyu\\AppData\\Local\\conda\\conda\\envs\\py35\\lib\\site-packages\\tensorflow\\contrib\\rnn\\python\\ops\\_gru_ops.so not found",
     "output_type": "error",
     "traceback": [
      "\u001b[1;31m---------------------------------------------------------------------------\u001b[0m",
      "\u001b[1;31mNotFoundError\u001b[0m                             Traceback (most recent call last)",
      "\u001b[1;32m<ipython-input-16-0b72db6b99dd>\u001b[0m in \u001b[0;36m<module>\u001b[1;34m()\u001b[0m\n\u001b[0;32m      5\u001b[0m \u001b[1;31m# adam optimizer\u001b[0m\u001b[1;33m\u001b[0m\u001b[1;33m\u001b[0m\u001b[0m\n\u001b[0;32m      6\u001b[0m \u001b[0moptimizer\u001b[0m \u001b[1;33m=\u001b[0m \u001b[0mtf\u001b[0m\u001b[1;33m.\u001b[0m\u001b[0mtrain\u001b[0m\u001b[1;33m.\u001b[0m\u001b[0mAdamOptimizer\u001b[0m\u001b[1;33m(\u001b[0m\u001b[0mlearning_rate\u001b[0m \u001b[1;33m=\u001b[0m \u001b[0mlearning_rate\u001b[0m\u001b[1;33m)\u001b[0m\u001b[1;33m\u001b[0m\u001b[0m\n\u001b[1;32m----> 7\u001b[1;33m \u001b[0moptimizer\u001b[0m \u001b[1;33m=\u001b[0m \u001b[0mtf\u001b[0m\u001b[1;33m.\u001b[0m\u001b[0mcontrib\u001b[0m\u001b[1;33m.\u001b[0m\u001b[0mestimator\u001b[0m\u001b[1;33m.\u001b[0m\u001b[0mclip_gradients_by_norm\u001b[0m\u001b[1;33m(\u001b[0m\u001b[0moptimizer\u001b[0m\u001b[1;33m,\u001b[0m \u001b[0mclip_norm\u001b[0m\u001b[1;33m=\u001b[0m\u001b[1;36m5.0\u001b[0m\u001b[1;33m)\u001b[0m\u001b[1;33m\u001b[0m\u001b[0m\n\u001b[0m\u001b[0;32m      8\u001b[0m \u001b[0mtrain_op\u001b[0m \u001b[1;33m=\u001b[0m \u001b[0moptimizer\u001b[0m\u001b[1;33m.\u001b[0m\u001b[0mminimize\u001b[0m\u001b[1;33m(\u001b[0m\u001b[0mloss\u001b[0m\u001b[1;33m,\u001b[0m \u001b[0mglobal_step\u001b[0m\u001b[1;33m=\u001b[0m\u001b[0mglobal_step\u001b[0m\u001b[1;33m)\u001b[0m\u001b[1;33m\u001b[0m\u001b[0m\n",
      "\u001b[1;32m~\\AppData\\Local\\conda\\conda\\envs\\py35\\lib\\site-packages\\tensorflow\\python\\util\\lazy_loader.py\u001b[0m in \u001b[0;36m__getattr__\u001b[1;34m(self, item)\u001b[0m\n\u001b[0;32m     51\u001b[0m \u001b[1;33m\u001b[0m\u001b[0m\n\u001b[0;32m     52\u001b[0m   \u001b[1;32mdef\u001b[0m \u001b[0m__getattr__\u001b[0m\u001b[1;33m(\u001b[0m\u001b[0mself\u001b[0m\u001b[1;33m,\u001b[0m \u001b[0mitem\u001b[0m\u001b[1;33m)\u001b[0m\u001b[1;33m:\u001b[0m\u001b[1;33m\u001b[0m\u001b[0m\n\u001b[1;32m---> 53\u001b[1;33m     \u001b[0mmodule\u001b[0m \u001b[1;33m=\u001b[0m \u001b[0mself\u001b[0m\u001b[1;33m.\u001b[0m\u001b[0m_load\u001b[0m\u001b[1;33m(\u001b[0m\u001b[1;33m)\u001b[0m\u001b[1;33m\u001b[0m\u001b[0m\n\u001b[0m\u001b[0;32m     54\u001b[0m     \u001b[1;32mreturn\u001b[0m \u001b[0mgetattr\u001b[0m\u001b[1;33m(\u001b[0m\u001b[0mmodule\u001b[0m\u001b[1;33m,\u001b[0m \u001b[0mitem\u001b[0m\u001b[1;33m)\u001b[0m\u001b[1;33m\u001b[0m\u001b[0m\n\u001b[0;32m     55\u001b[0m \u001b[1;33m\u001b[0m\u001b[0m\n",
      "\u001b[1;32m~\\AppData\\Local\\conda\\conda\\envs\\py35\\lib\\site-packages\\tensorflow\\python\\util\\lazy_loader.py\u001b[0m in \u001b[0;36m_load\u001b[1;34m(self)\u001b[0m\n\u001b[0;32m     40\u001b[0m   \u001b[1;32mdef\u001b[0m \u001b[0m_load\u001b[0m\u001b[1;33m(\u001b[0m\u001b[0mself\u001b[0m\u001b[1;33m)\u001b[0m\u001b[1;33m:\u001b[0m\u001b[1;33m\u001b[0m\u001b[0m\n\u001b[0;32m     41\u001b[0m     \u001b[1;31m# Import the target module and insert it into the parent's namespace\u001b[0m\u001b[1;33m\u001b[0m\u001b[1;33m\u001b[0m\u001b[0m\n\u001b[1;32m---> 42\u001b[1;33m     \u001b[0mmodule\u001b[0m \u001b[1;33m=\u001b[0m \u001b[0mimportlib\u001b[0m\u001b[1;33m.\u001b[0m\u001b[0mimport_module\u001b[0m\u001b[1;33m(\u001b[0m\u001b[0mself\u001b[0m\u001b[1;33m.\u001b[0m\u001b[0m__name__\u001b[0m\u001b[1;33m)\u001b[0m\u001b[1;33m\u001b[0m\u001b[0m\n\u001b[0m\u001b[0;32m     43\u001b[0m     \u001b[0mself\u001b[0m\u001b[1;33m.\u001b[0m\u001b[0m_parent_module_globals\u001b[0m\u001b[1;33m[\u001b[0m\u001b[0mself\u001b[0m\u001b[1;33m.\u001b[0m\u001b[0m_local_name\u001b[0m\u001b[1;33m]\u001b[0m \u001b[1;33m=\u001b[0m \u001b[0mmodule\u001b[0m\u001b[1;33m\u001b[0m\u001b[0m\n\u001b[0;32m     44\u001b[0m \u001b[1;33m\u001b[0m\u001b[0m\n",
      "\u001b[1;32m~\\AppData\\Local\\conda\\conda\\envs\\py35\\lib\\importlib\\__init__.py\u001b[0m in \u001b[0;36mimport_module\u001b[1;34m(name, package)\u001b[0m\n\u001b[0;32m    124\u001b[0m                 \u001b[1;32mbreak\u001b[0m\u001b[1;33m\u001b[0m\u001b[0m\n\u001b[0;32m    125\u001b[0m             \u001b[0mlevel\u001b[0m \u001b[1;33m+=\u001b[0m \u001b[1;36m1\u001b[0m\u001b[1;33m\u001b[0m\u001b[0m\n\u001b[1;32m--> 126\u001b[1;33m     \u001b[1;32mreturn\u001b[0m \u001b[0m_bootstrap\u001b[0m\u001b[1;33m.\u001b[0m\u001b[0m_gcd_import\u001b[0m\u001b[1;33m(\u001b[0m\u001b[0mname\u001b[0m\u001b[1;33m[\u001b[0m\u001b[0mlevel\u001b[0m\u001b[1;33m:\u001b[0m\u001b[1;33m]\u001b[0m\u001b[1;33m,\u001b[0m \u001b[0mpackage\u001b[0m\u001b[1;33m,\u001b[0m \u001b[0mlevel\u001b[0m\u001b[1;33m)\u001b[0m\u001b[1;33m\u001b[0m\u001b[0m\n\u001b[0m\u001b[0;32m    127\u001b[0m \u001b[1;33m\u001b[0m\u001b[0m\n\u001b[0;32m    128\u001b[0m \u001b[1;33m\u001b[0m\u001b[0m\n",
      "\u001b[1;32m~\\AppData\\Local\\conda\\conda\\envs\\py35\\lib\\importlib\\_bootstrap.py\u001b[0m in \u001b[0;36m_gcd_import\u001b[1;34m(name, package, level)\u001b[0m\n",
      "\u001b[1;32m~\\AppData\\Local\\conda\\conda\\envs\\py35\\lib\\importlib\\_bootstrap.py\u001b[0m in \u001b[0;36m_find_and_load\u001b[1;34m(name, import_)\u001b[0m\n",
      "\u001b[1;32m~\\AppData\\Local\\conda\\conda\\envs\\py35\\lib\\importlib\\_bootstrap.py\u001b[0m in \u001b[0;36m_find_and_load_unlocked\u001b[1;34m(name, import_)\u001b[0m\n",
      "\u001b[1;32m~\\AppData\\Local\\conda\\conda\\envs\\py35\\lib\\importlib\\_bootstrap.py\u001b[0m in \u001b[0;36m_load_unlocked\u001b[1;34m(spec)\u001b[0m\n",
      "\u001b[1;32m~\\AppData\\Local\\conda\\conda\\envs\\py35\\lib\\importlib\\_bootstrap_external.py\u001b[0m in \u001b[0;36mexec_module\u001b[1;34m(self, module)\u001b[0m\n",
      "\u001b[1;32m~\\AppData\\Local\\conda\\conda\\envs\\py35\\lib\\importlib\\_bootstrap.py\u001b[0m in \u001b[0;36m_call_with_frames_removed\u001b[1;34m(f, *args, **kwds)\u001b[0m\n",
      "\u001b[1;32m~\\AppData\\Local\\conda\\conda\\envs\\py35\\lib\\site-packages\\tensorflow\\contrib\\__init__.py\u001b[0m in \u001b[0;36m<module>\u001b[1;34m()\u001b[0m\n\u001b[0;32m     34\u001b[0m \u001b[1;32mfrom\u001b[0m \u001b[0mtensorflow\u001b[0m\u001b[1;33m.\u001b[0m\u001b[0mcontrib\u001b[0m \u001b[1;32mimport\u001b[0m \u001b[0mcopy_graph\u001b[0m\u001b[1;33m\u001b[0m\u001b[0m\n\u001b[0;32m     35\u001b[0m \u001b[1;32mfrom\u001b[0m \u001b[0mtensorflow\u001b[0m\u001b[1;33m.\u001b[0m\u001b[0mcontrib\u001b[0m \u001b[1;32mimport\u001b[0m \u001b[0mcrf\u001b[0m\u001b[1;33m\u001b[0m\u001b[0m\n\u001b[1;32m---> 36\u001b[1;33m \u001b[1;32mfrom\u001b[0m \u001b[0mtensorflow\u001b[0m\u001b[1;33m.\u001b[0m\u001b[0mcontrib\u001b[0m \u001b[1;32mimport\u001b[0m \u001b[0mcudnn_rnn\u001b[0m\u001b[1;33m\u001b[0m\u001b[0m\n\u001b[0m\u001b[0;32m     37\u001b[0m \u001b[1;32mfrom\u001b[0m \u001b[0mtensorflow\u001b[0m\u001b[1;33m.\u001b[0m\u001b[0mcontrib\u001b[0m \u001b[1;32mimport\u001b[0m \u001b[0mdata\u001b[0m\u001b[1;33m\u001b[0m\u001b[0m\n\u001b[0;32m     38\u001b[0m \u001b[1;32mfrom\u001b[0m \u001b[0mtensorflow\u001b[0m\u001b[1;33m.\u001b[0m\u001b[0mcontrib\u001b[0m \u001b[1;32mimport\u001b[0m \u001b[0mdeprecated\u001b[0m\u001b[1;33m\u001b[0m\u001b[0m\n",
      "\u001b[1;32m~\\AppData\\Local\\conda\\conda\\envs\\py35\\lib\\site-packages\\tensorflow\\contrib\\cudnn_rnn\\__init__.py\u001b[0m in \u001b[0;36m<module>\u001b[1;34m()\u001b[0m\n\u001b[0;32m     32\u001b[0m \u001b[1;33m\u001b[0m\u001b[0m\n\u001b[0;32m     33\u001b[0m \u001b[1;31m# pylint: disable=unused-import,wildcard-import\u001b[0m\u001b[1;33m\u001b[0m\u001b[1;33m\u001b[0m\u001b[0m\n\u001b[1;32m---> 34\u001b[1;33m \u001b[1;32mfrom\u001b[0m \u001b[0mtensorflow\u001b[0m\u001b[1;33m.\u001b[0m\u001b[0mcontrib\u001b[0m\u001b[1;33m.\u001b[0m\u001b[0mcudnn_rnn\u001b[0m\u001b[1;33m.\u001b[0m\u001b[0mpython\u001b[0m\u001b[1;33m.\u001b[0m\u001b[0mlayers\u001b[0m \u001b[1;32mimport\u001b[0m \u001b[1;33m*\u001b[0m\u001b[1;33m\u001b[0m\u001b[0m\n\u001b[0m\u001b[0;32m     35\u001b[0m \u001b[1;31m# pylint: enable=unused-import,wildcard-import\u001b[0m\u001b[1;33m\u001b[0m\u001b[1;33m\u001b[0m\u001b[0m\n\u001b[0;32m     36\u001b[0m \u001b[1;33m\u001b[0m\u001b[0m\n",
      "\u001b[1;32m~\\AppData\\Local\\conda\\conda\\envs\\py35\\lib\\site-packages\\tensorflow\\contrib\\cudnn_rnn\\python\\layers\\__init__.py\u001b[0m in \u001b[0;36m<module>\u001b[1;34m()\u001b[0m\n\u001b[0;32m     21\u001b[0m \u001b[1;33m\u001b[0m\u001b[0m\n\u001b[0;32m     22\u001b[0m \u001b[1;31m# pylint: disable=unused-import,wildcard-import\u001b[0m\u001b[1;33m\u001b[0m\u001b[1;33m\u001b[0m\u001b[0m\n\u001b[1;32m---> 23\u001b[1;33m \u001b[1;32mfrom\u001b[0m \u001b[0mtensorflow\u001b[0m\u001b[1;33m.\u001b[0m\u001b[0mcontrib\u001b[0m\u001b[1;33m.\u001b[0m\u001b[0mcudnn_rnn\u001b[0m\u001b[1;33m.\u001b[0m\u001b[0mpython\u001b[0m\u001b[1;33m.\u001b[0m\u001b[0mlayers\u001b[0m\u001b[1;33m.\u001b[0m\u001b[0mcudnn_rnn\u001b[0m \u001b[1;32mimport\u001b[0m \u001b[1;33m*\u001b[0m\u001b[1;33m\u001b[0m\u001b[0m\n\u001b[0m\u001b[0;32m     24\u001b[0m \u001b[1;31m# pylint: enable=unused-import,wildcard-import\u001b[0m\u001b[1;33m\u001b[0m\u001b[1;33m\u001b[0m\u001b[0m\n\u001b[0;32m     25\u001b[0m \u001b[1;33m\u001b[0m\u001b[0m\n",
      "\u001b[1;32m~\\AppData\\Local\\conda\\conda\\envs\\py35\\lib\\site-packages\\tensorflow\\contrib\\cudnn_rnn\\python\\layers\\cudnn_rnn.py\u001b[0m in \u001b[0;36m<module>\u001b[1;34m()\u001b[0m\n\u001b[0;32m     18\u001b[0m \u001b[1;32mfrom\u001b[0m \u001b[0m__future__\u001b[0m \u001b[1;32mimport\u001b[0m \u001b[0mprint_function\u001b[0m\u001b[1;33m\u001b[0m\u001b[0m\n\u001b[0;32m     19\u001b[0m \u001b[1;33m\u001b[0m\u001b[0m\n\u001b[1;32m---> 20\u001b[1;33m \u001b[1;32mfrom\u001b[0m \u001b[0mtensorflow\u001b[0m\u001b[1;33m.\u001b[0m\u001b[0mcontrib\u001b[0m\u001b[1;33m.\u001b[0m\u001b[0mcudnn_rnn\u001b[0m\u001b[1;33m.\u001b[0m\u001b[0mpython\u001b[0m\u001b[1;33m.\u001b[0m\u001b[0mops\u001b[0m \u001b[1;32mimport\u001b[0m \u001b[0mcudnn_rnn_ops\u001b[0m\u001b[1;33m\u001b[0m\u001b[0m\n\u001b[0m\u001b[0;32m     21\u001b[0m \u001b[1;32mfrom\u001b[0m \u001b[0mtensorflow\u001b[0m\u001b[1;33m.\u001b[0m\u001b[0mpython\u001b[0m\u001b[1;33m.\u001b[0m\u001b[0mframework\u001b[0m \u001b[1;32mimport\u001b[0m \u001b[0mdtypes\u001b[0m\u001b[1;33m\u001b[0m\u001b[0m\n\u001b[0;32m     22\u001b[0m \u001b[1;32mfrom\u001b[0m \u001b[0mtensorflow\u001b[0m\u001b[1;33m.\u001b[0m\u001b[0mpython\u001b[0m\u001b[1;33m.\u001b[0m\u001b[0mframework\u001b[0m \u001b[1;32mimport\u001b[0m \u001b[0mops\u001b[0m\u001b[1;33m\u001b[0m\u001b[0m\n",
      "\u001b[1;32m~\\AppData\\Local\\conda\\conda\\envs\\py35\\lib\\site-packages\\tensorflow\\contrib\\cudnn_rnn\\python\\ops\\cudnn_rnn_ops.py\u001b[0m in \u001b[0;36m<module>\u001b[1;34m()\u001b[0m\n\u001b[0;32m     20\u001b[0m \u001b[1;32mimport\u001b[0m \u001b[0mos\u001b[0m\u001b[1;33m\u001b[0m\u001b[0m\n\u001b[0;32m     21\u001b[0m \u001b[1;32mfrom\u001b[0m \u001b[0mtensorflow\u001b[0m\u001b[1;33m.\u001b[0m\u001b[0mcontrib\u001b[0m\u001b[1;33m.\u001b[0m\u001b[0mcheckpoint\u001b[0m\u001b[1;33m.\u001b[0m\u001b[0mpython\u001b[0m \u001b[1;32mimport\u001b[0m \u001b[0msplit_dependency\u001b[0m\u001b[1;33m\u001b[0m\u001b[0m\n\u001b[1;32m---> 22\u001b[1;33m \u001b[1;32mfrom\u001b[0m \u001b[0mtensorflow\u001b[0m\u001b[1;33m.\u001b[0m\u001b[0mcontrib\u001b[0m\u001b[1;33m.\u001b[0m\u001b[0mrnn\u001b[0m\u001b[1;33m.\u001b[0m\u001b[0mpython\u001b[0m\u001b[1;33m.\u001b[0m\u001b[0mops\u001b[0m \u001b[1;32mimport\u001b[0m \u001b[0mlstm_ops\u001b[0m\u001b[1;33m\u001b[0m\u001b[0m\n\u001b[0m\u001b[0;32m     23\u001b[0m \u001b[1;32mfrom\u001b[0m \u001b[0mtensorflow\u001b[0m\u001b[1;33m.\u001b[0m\u001b[0mpython\u001b[0m\u001b[1;33m.\u001b[0m\u001b[0mframework\u001b[0m \u001b[1;32mimport\u001b[0m \u001b[0mdtypes\u001b[0m\u001b[1;33m\u001b[0m\u001b[0m\n\u001b[0;32m     24\u001b[0m \u001b[1;32mfrom\u001b[0m \u001b[0mtensorflow\u001b[0m\u001b[1;33m.\u001b[0m\u001b[0mpython\u001b[0m\u001b[1;33m.\u001b[0m\u001b[0mframework\u001b[0m \u001b[1;32mimport\u001b[0m \u001b[0mops\u001b[0m\u001b[1;33m\u001b[0m\u001b[0m\n",
      "\u001b[1;32m~\\AppData\\Local\\conda\\conda\\envs\\py35\\lib\\site-packages\\tensorflow\\contrib\\rnn\\__init__.py\u001b[0m in \u001b[0;36m<module>\u001b[1;34m()\u001b[0m\n\u001b[0;32m     90\u001b[0m \u001b[1;33m\u001b[0m\u001b[0m\n\u001b[0;32m     91\u001b[0m \u001b[1;32mfrom\u001b[0m \u001b[0mtensorflow\u001b[0m\u001b[1;33m.\u001b[0m\u001b[0mcontrib\u001b[0m\u001b[1;33m.\u001b[0m\u001b[0mrnn\u001b[0m\u001b[1;33m.\u001b[0m\u001b[0mpython\u001b[0m\u001b[1;33m.\u001b[0m\u001b[0mops\u001b[0m\u001b[1;33m.\u001b[0m\u001b[0mfused_rnn_cell\u001b[0m \u001b[1;32mimport\u001b[0m \u001b[1;33m*\u001b[0m\u001b[1;33m\u001b[0m\u001b[0m\n\u001b[1;32m---> 92\u001b[1;33m \u001b[1;32mfrom\u001b[0m \u001b[0mtensorflow\u001b[0m\u001b[1;33m.\u001b[0m\u001b[0mcontrib\u001b[0m\u001b[1;33m.\u001b[0m\u001b[0mrnn\u001b[0m\u001b[1;33m.\u001b[0m\u001b[0mpython\u001b[0m\u001b[1;33m.\u001b[0m\u001b[0mops\u001b[0m\u001b[1;33m.\u001b[0m\u001b[0mgru_ops\u001b[0m \u001b[1;32mimport\u001b[0m \u001b[1;33m*\u001b[0m\u001b[1;33m\u001b[0m\u001b[0m\n\u001b[0m\u001b[0;32m     93\u001b[0m \u001b[1;32mfrom\u001b[0m \u001b[0mtensorflow\u001b[0m\u001b[1;33m.\u001b[0m\u001b[0mcontrib\u001b[0m\u001b[1;33m.\u001b[0m\u001b[0mrnn\u001b[0m\u001b[1;33m.\u001b[0m\u001b[0mpython\u001b[0m\u001b[1;33m.\u001b[0m\u001b[0mops\u001b[0m\u001b[1;33m.\u001b[0m\u001b[0mlstm_ops\u001b[0m \u001b[1;32mimport\u001b[0m \u001b[1;33m*\u001b[0m\u001b[1;33m\u001b[0m\u001b[0m\n\u001b[0;32m     94\u001b[0m \u001b[1;32mfrom\u001b[0m \u001b[0mtensorflow\u001b[0m\u001b[1;33m.\u001b[0m\u001b[0mcontrib\u001b[0m\u001b[1;33m.\u001b[0m\u001b[0mrnn\u001b[0m\u001b[1;33m.\u001b[0m\u001b[0mpython\u001b[0m\u001b[1;33m.\u001b[0m\u001b[0mops\u001b[0m\u001b[1;33m.\u001b[0m\u001b[0mrnn\u001b[0m \u001b[1;32mimport\u001b[0m \u001b[1;33m*\u001b[0m\u001b[1;33m\u001b[0m\u001b[0m\n",
      "\u001b[1;32m~\\AppData\\Local\\conda\\conda\\envs\\py35\\lib\\site-packages\\tensorflow\\contrib\\rnn\\python\\ops\\gru_ops.py\u001b[0m in \u001b[0;36m<module>\u001b[1;34m()\u001b[0m\n\u001b[0;32m     31\u001b[0m \u001b[1;33m\u001b[0m\u001b[0m\n\u001b[0;32m     32\u001b[0m _gru_ops_so = loader.load_op_library(\n\u001b[1;32m---> 33\u001b[1;33m     resource_loader.get_path_to_datafile(\"_gru_ops.so\"))\n\u001b[0m\u001b[0;32m     34\u001b[0m \u001b[1;33m\u001b[0m\u001b[0m\n\u001b[0;32m     35\u001b[0m \u001b[0mLayerRNNCell\u001b[0m \u001b[1;33m=\u001b[0m \u001b[0mrnn_cell_impl\u001b[0m\u001b[1;33m.\u001b[0m\u001b[0mLayerRNNCell\u001b[0m  \u001b[1;31m# pylint: disable=invalid-name\u001b[0m\u001b[1;33m\u001b[0m\u001b[0m\n",
      "\u001b[1;32m~\\AppData\\Local\\conda\\conda\\envs\\py35\\lib\\site-packages\\tensorflow\\contrib\\util\\loader.py\u001b[0m in \u001b[0;36mload_op_library\u001b[1;34m(path)\u001b[0m\n\u001b[0;32m     54\u001b[0m       \u001b[1;32mreturn\u001b[0m \u001b[1;32mNone\u001b[0m\u001b[1;33m\u001b[0m\u001b[0m\n\u001b[0;32m     55\u001b[0m   \u001b[0mpath\u001b[0m \u001b[1;33m=\u001b[0m \u001b[0mresource_loader\u001b[0m\u001b[1;33m.\u001b[0m\u001b[0mget_path_to_datafile\u001b[0m\u001b[1;33m(\u001b[0m\u001b[0mpath\u001b[0m\u001b[1;33m)\u001b[0m\u001b[1;33m\u001b[0m\u001b[0m\n\u001b[1;32m---> 56\u001b[1;33m   \u001b[0mret\u001b[0m \u001b[1;33m=\u001b[0m \u001b[0mload_library\u001b[0m\u001b[1;33m.\u001b[0m\u001b[0mload_op_library\u001b[0m\u001b[1;33m(\u001b[0m\u001b[0mpath\u001b[0m\u001b[1;33m)\u001b[0m\u001b[1;33m\u001b[0m\u001b[0m\n\u001b[0m\u001b[0;32m     57\u001b[0m   \u001b[1;32massert\u001b[0m \u001b[0mret\u001b[0m\u001b[1;33m,\u001b[0m \u001b[1;34m'Could not load %s'\u001b[0m \u001b[1;33m%\u001b[0m \u001b[0mpath\u001b[0m\u001b[1;33m\u001b[0m\u001b[0m\n\u001b[0;32m     58\u001b[0m   \u001b[1;32mreturn\u001b[0m \u001b[0mret\u001b[0m\u001b[1;33m\u001b[0m\u001b[0m\n",
      "\u001b[1;32m~\\AppData\\Local\\conda\\conda\\envs\\py35\\lib\\site-packages\\tensorflow\\python\\framework\\load_library.py\u001b[0m in \u001b[0;36mload_op_library\u001b[1;34m(library_filename)\u001b[0m\n\u001b[0;32m     54\u001b[0m     \u001b[0mRuntimeError\u001b[0m\u001b[1;33m:\u001b[0m \u001b[0mwhen\u001b[0m \u001b[0munable\u001b[0m \u001b[0mto\u001b[0m \u001b[0mload\u001b[0m \u001b[0mthe\u001b[0m \u001b[0mlibrary\u001b[0m \u001b[1;32mor\u001b[0m \u001b[0mget\u001b[0m \u001b[0mthe\u001b[0m \u001b[0mpython\u001b[0m \u001b[0mwrappers\u001b[0m\u001b[1;33m.\u001b[0m\u001b[1;33m\u001b[0m\u001b[0m\n\u001b[0;32m     55\u001b[0m   \"\"\"\n\u001b[1;32m---> 56\u001b[1;33m   \u001b[0mlib_handle\u001b[0m \u001b[1;33m=\u001b[0m \u001b[0mpy_tf\u001b[0m\u001b[1;33m.\u001b[0m\u001b[0mTF_LoadLibrary\u001b[0m\u001b[1;33m(\u001b[0m\u001b[0mlibrary_filename\u001b[0m\u001b[1;33m)\u001b[0m\u001b[1;33m\u001b[0m\u001b[0m\n\u001b[0m\u001b[0;32m     57\u001b[0m \u001b[1;33m\u001b[0m\u001b[0m\n\u001b[0;32m     58\u001b[0m   \u001b[0mop_list_str\u001b[0m \u001b[1;33m=\u001b[0m \u001b[0mpy_tf\u001b[0m\u001b[1;33m.\u001b[0m\u001b[0mTF_GetOpList\u001b[0m\u001b[1;33m(\u001b[0m\u001b[0mlib_handle\u001b[0m\u001b[1;33m)\u001b[0m\u001b[1;33m\u001b[0m\u001b[0m\n",
      "\u001b[1;31mNotFoundError\u001b[0m: C:\\Users\\zhaoyu\\AppData\\Local\\conda\\conda\\envs\\py35\\lib\\site-packages\\tensorflow\\contrib\\rnn\\python\\ops\\_gru_ops.so not found"
     ]
    }
   ],
   "source": [
    "global_step = tf.Variable(0, trainable=False)\n",
    "starter_learning_rate = 0.01\n",
    "# exponential decay learning rate\n",
    "learning_rate = tf.maximum(tf.train.exponential_decay(starter_learning_rate, global_step, 50, 0.98, staircase=True), tf.constant(0.00001))\n",
    "# adam optimizer\n",
    "optimizer = tf.train.AdamOptimizer(learning_rate = learning_rate)\n",
    "optimizer = tf.contrib.estimator.clip_gradients_by_norm(optimizer, clip_norm=5.0)\n",
    "train_op = optimizer.minimize(loss, global_step=global_step)"
   ]
  },
  {
   "cell_type": "markdown",
   "metadata": {
    "colab_type": "text",
    "id": "8y8QO9bfCO6R"
   },
   "source": [
    "## Training"
   ]
  },
  {
   "cell_type": "code",
   "execution_count": null,
   "metadata": {
    "colab": {},
    "colab_type": "code",
    "id": "Ha8csd4WCO6R"
   },
   "outputs": [],
   "source": [
    "init = tf.global_variables_initializer()\n",
    "sess.run(init)"
   ]
  },
  {
   "cell_type": "code",
   "execution_count": null,
   "metadata": {
    "colab": {},
    "colab_type": "code",
    "id": "IrtC1bDkCO6U"
   },
   "outputs": [],
   "source": [
    "np.random.seed(8)\n",
    "# GBM\n",
    "path_test = Create_paths(100000000, M)\n",
    "time_feed = generate_t(T, steps, M)\n",
    "pred_dict = {path: path_test, time: time_feed}\n",
    "\n",
    "# Linear\n",
    "path_test2 = np.tile(np.linspace(2, 1e-6, steps+1), (M,1))\n",
    "pred_dict2 = {path: path_test2, time: time_feed}\n",
    "\n",
    "train_loss_list = []\n",
    "test_loss_list = []"
   ]
  },
  {
   "cell_type": "code",
   "execution_count": null,
   "metadata": {
    "colab": {
     "base_uri": "https://localhost:8080/",
     "height": 1000
    },
    "colab_type": "code",
    "id": "WcXhLVT5CO6X",
    "outputId": "1a76c958-09fc-4f4f-ffb0-56a9bb1de037",
    "scrolled": true
   },
   "outputs": [],
   "source": [
    "start_time = ttt.time()\n",
    "\n",
    "for it in range(Epoch):\n",
    "    seed = it % 100\n",
    "    path_feed =  Create_paths(seed, M)\n",
    "    feed_dict = {path: path_feed, time: time_feed}\n",
    "    sess.run(train_op, feed_dict)\n",
    "\n",
    "    if (it % 10 == 0): # every 10 epoch print and record\n",
    "        elapsed = ttt.time() - start_time\n",
    "        print(\"{}th Epoch:\".format(it+1))\n",
    "        loss_value = sess.run(loss, feed_dict)\n",
    "        lr = sess.run(learning_rate)\n",
    "        loss_test = sess.run(loss, pred_dict)\n",
    "        print(\"traing loss is {}, test loss is {}, and learning rate is {}, elapsed is {}.\".format(loss_value, loss_test, lr, elapsed))\n",
    "        print(\" \")\n",
    "\n",
    "        train_loss_list.append(loss_value)\n",
    "        test_loss_list.append(loss_test)        \n",
    "        start_time = ttt.time()\n",
    "\n",
    "    if (it % 100 == 0): # every 100 epoch, show picture\n",
    "\n",
    "        solution_pred, time_derivative_pred, space_derivative_pred, space_2nd_derivative_pred = sess.run([solution, time_derivative, space_derivative, space_2nd_derivative], pred_dict)\n",
    "        num_epoches = len(train_loss_list)\n",
    "        x_axis_epoches = np.linspace(0, num_epoches*10, num_epoches)\n",
    "\n",
    "        # plot train/test loss \n",
    "        plt.plot(x_axis_epoches, train_loss_list, 'b-', label = \"train loss\")\n",
    "        plt.plot(x_axis_epoches, test_loss_list, 'c--', label = \"test loss\")\n",
    "        plt.legend()\n",
    "        plt.ylim([0, 0.1])\n",
    "        plt.title(\"Total Loss\")\n",
    "        plt.show()\n",
    "        \n",
    "        # plot one example path\n",
    "        plt.plot(t, path_test[1], label = \"bm\")\n",
    "        plt.legend()\n",
    "        plt.title(\"One Path\")\n",
    "        plt.show()\n",
    "        \n",
    "        # plot the true solution vs predicted solution\n",
    "        plt.plot(t, true_solution(path_test[1]), label = \"True\")\n",
    "        plt.plot(t, solution_pred[1], 'c--', label = \"Pred\")\n",
    "        plt.plot(T, terminal_condition(path_test[1]), \"ro\", label = \"Terminal Value\")\n",
    "        plt.legend()\n",
    "        plt.title(\"One path of solution\")\n",
    "        plt.show()\n",
    "        \n",
    "        # plot the time and space derivatives.\n",
    "        plt.plot(np.linspace(0,T, steps+1), space_derivative_pred[1], label = \"space derivative\")\n",
    "        plt.plot(np.linspace(0,T, steps+1), space_2nd_derivative_pred[1], label = \"2nd space derivative\")\n",
    "        plt.plot(np.linspace(0,T, steps+1), time_derivative_pred[1], label = \"time derivative\")\n",
    "        plt.legend()\n",
    "        plt.title(\"derivatives\")\n",
    "        plt.show()\n",
    "        "
   ]
  },
  {
   "cell_type": "markdown",
   "metadata": {},
   "source": [
    "## Evaluation"
   ]
  },
  {
   "cell_type": "code",
   "execution_count": null,
   "metadata": {
    "colab": {},
    "colab_type": "code",
    "id": "jsE7kCHfCO6b"
   },
   "outputs": [],
   "source": [
    "np.save('asian_train_loss_list.npy', train_loss_list)\n",
    "np.save('asian_test_loss_list.npy', test_loss_list)\n",
    "np.save('asian_solution_pred.npy', solution_pred)\n",
    "np.save('asian_space_derivative_pred.npy', space_derivative_pred)\n",
    "np.save('asian_space_2nd_derivative_pred.npy', space_derivative_pred)\n",
    "np.save('asian_time_derivative_pred.npy', time_derivative_pred)"
   ]
  },
  {
   "cell_type": "code",
   "execution_count": null,
   "metadata": {
    "colab": {},
    "colab_type": "code",
    "id": "mkLcXB6hCO6d"
   },
   "outputs": [],
   "source": [
    "num_epoches = len(train_loss_list)\n",
    "x_axis_epoches = np.linspace(0, num_epoches*10, num_epoches)\n",
    "plt.plot(x_axis_epoches, train_loss_list, 'b-', label = \"Train Loss\")\n",
    "plt.plot(x_axis_epoches, test_loss_list, 'c--', label = \"Test Loss\")\n",
    "plt.legend()\n",
    "plt.ylim([0, 0.01])\n",
    "plt.xlabel(\"Epochs\")\n",
    "plt.ylabel(\"Loss\")\n",
    "\n",
    "plt.savefig(\"./pics/geo_asian_loss.pdf\")\n",
    "plt.show()"
   ]
  },
  {
   "cell_type": "code",
   "execution_count": null,
   "metadata": {
    "colab": {},
    "colab_type": "code",
    "id": "a2aEdoh2CO6f"
   },
   "outputs": [],
   "source": [
    "solution_pred, time_derivative_pred, space_derivative_pred = sess.run([solution, time_derivative, space_derivative], pred_dict)"
   ]
  },
  {
   "cell_type": "code",
   "execution_count": null,
   "metadata": {},
   "outputs": [],
   "source": [
    "print(train_loss_list[-5:])\n",
    "print(test_loss_list[-5:])"
   ]
  },
  {
   "cell_type": "code",
   "execution_count": null,
   "metadata": {
    "colab": {},
    "colab_type": "code",
    "id": "kdWKudAMCO6l"
   },
   "outputs": [],
   "source": [
    "# plot derivatives\n",
    "plt.plot(t, space_derivative_pred[1], label = \"space derivative\")\n",
    "plt.plot(t, space_2nd_derivative_pred[1], label = \"2nd space derivative\")\n",
    "plt.plot(t, time_derivative_pred[1], label = \"time derivative\")\n",
    "plt.legend()\n",
    "plt.title(\"derivatives\")\n",
    "plt.show()"
   ]
  },
  {
   "cell_type": "code",
   "execution_count": null,
   "metadata": {
    "colab": {},
    "colab_type": "code",
    "id": "CKT7ATgSCO6o"
   },
   "outputs": [],
   "source": [
    "# 16 test paths\n",
    "for i in range(16):\n",
    "    plt.plot(t, path_test[i])\n",
    "plt.title(\"16 samples of GBMs\")"
   ]
  },
  {
   "cell_type": "code",
   "execution_count": null,
   "metadata": {
    "colab": {},
    "colab_type": "code",
    "id": "LOhyT9YCCO6s"
   },
   "outputs": [],
   "source": [
    "# A sample test path\n",
    "plt.plot(t, path_test[2], label = \"Test Path 1\")\n",
    "plt.xlabel(\"t\")\n",
    "plt.ylabel(r\"$Y_t$\")\n",
    "plt.legend()\n",
    "plt.savefig(\"./pics/geo_asian_test1.pdf\")\n"
   ]
  },
  {
   "cell_type": "code",
   "execution_count": null,
   "metadata": {
    "colab": {},
    "colab_type": "code",
    "id": "_DiIld7TCO6u"
   },
   "outputs": [],
   "source": [
    "# comparison of true vs predicted solution for the above GBM path\n",
    "plt.plot(t, true_solution(path_test[2]), \"b\", label = \"True\")\n",
    "plt.plot(t, solution_pred[2], \"r--\", label = \"Pred\")\n",
    "plt.plot(T, terminal_condition(path_test[2]), \"ko\", label = \"Terminal Value\")\n",
    "\n",
    "plt.title(r\"Solution of Test Path 1\")\n",
    "plt.xlabel(\"t\")\n",
    "plt.ylabel(r\"$f(Y_t)$\")\n",
    "plt.legend()\n",
    "plt.savefig(\"./pics/geo_asian_sol1.pdf\")"
   ]
  },
  {
   "cell_type": "markdown",
   "metadata": {
    "colab_type": "text",
    "id": "35fX9nAlCO6w"
   },
   "source": [
    "## Test Another Path"
   ]
  },
  {
   "cell_type": "code",
   "execution_count": 18,
   "metadata": {
    "colab": {},
    "colab_type": "code",
    "id": "iSgELyaGCO6w",
    "scrolled": false
   },
   "outputs": [],
   "source": [
    "path_test2 = np.tile(np.linspace(1,1e-6, steps+1), (M,1))**2\n",
    "pred_dict2 = {path: path_test2, time: time_feed}"
   ]
  },
  {
   "cell_type": "code",
   "execution_count": null,
   "metadata": {
    "colab": {},
    "colab_type": "code",
    "id": "hHj9Cxu6CO6z",
    "scrolled": true
   },
   "outputs": [],
   "source": [
    "solution_2, space_derivative_2, time_derivative_2 = sess.run([solution, space_derivative, time_derivative], pred_dict2)"
   ]
  },
  {
   "cell_type": "code",
   "execution_count": null,
   "metadata": {
    "colab": {},
    "colab_type": "code",
    "id": "qBd0_fX9CO62"
   },
   "outputs": [],
   "source": [
    "loss_2 = sess.run(loss, pred_dict2)\n",
    "loss_2"
   ]
  },
  {
   "cell_type": "code",
   "execution_count": 23,
   "metadata": {
    "colab": {},
    "colab_type": "code",
    "id": "WTtExedhCO65"
   },
   "outputs": [
    {
     "ename": "FileNotFoundError",
     "evalue": "[Errno 2] No such file or directory: './pics/geo_asian_test2.pdf'",
     "output_type": "error",
     "traceback": [
      "\u001b[1;31m---------------------------------------------------------------------------\u001b[0m",
      "\u001b[1;31mFileNotFoundError\u001b[0m                         Traceback (most recent call last)",
      "\u001b[1;32m<ipython-input-23-90c5c082f975>\u001b[0m in \u001b[0;36m<module>\u001b[1;34m()\u001b[0m\n\u001b[0;32m      6\u001b[0m \u001b[0mplt\u001b[0m\u001b[1;33m.\u001b[0m\u001b[0mylabel\u001b[0m\u001b[1;33m(\u001b[0m\u001b[1;34mr\"$Y_t$\"\u001b[0m\u001b[1;33m)\u001b[0m\u001b[1;33m\u001b[0m\u001b[0m\n\u001b[0;32m      7\u001b[0m \u001b[1;33m\u001b[0m\u001b[0m\n\u001b[1;32m----> 8\u001b[1;33m \u001b[0mplt\u001b[0m\u001b[1;33m.\u001b[0m\u001b[0msavefig\u001b[0m\u001b[1;33m(\u001b[0m\u001b[1;34m\"./pics/geo_asian_test2.pdf\"\u001b[0m\u001b[1;33m)\u001b[0m\u001b[1;33m\u001b[0m\u001b[0m\n\u001b[0m\u001b[0;32m      9\u001b[0m \u001b[0mplt\u001b[0m\u001b[1;33m.\u001b[0m\u001b[0mshow\u001b[0m\u001b[1;33m(\u001b[0m\u001b[1;33m)\u001b[0m\u001b[1;33m\u001b[0m\u001b[0m\n",
      "\u001b[1;32m~\\AppData\\Local\\conda\\conda\\envs\\py35\\lib\\site-packages\\matplotlib\\pyplot.py\u001b[0m in \u001b[0;36msavefig\u001b[1;34m(*args, **kwargs)\u001b[0m\n\u001b[0;32m    686\u001b[0m \u001b[1;32mdef\u001b[0m \u001b[0msavefig\u001b[0m\u001b[1;33m(\u001b[0m\u001b[1;33m*\u001b[0m\u001b[0margs\u001b[0m\u001b[1;33m,\u001b[0m \u001b[1;33m**\u001b[0m\u001b[0mkwargs\u001b[0m\u001b[1;33m)\u001b[0m\u001b[1;33m:\u001b[0m\u001b[1;33m\u001b[0m\u001b[0m\n\u001b[0;32m    687\u001b[0m     \u001b[0mfig\u001b[0m \u001b[1;33m=\u001b[0m \u001b[0mgcf\u001b[0m\u001b[1;33m(\u001b[0m\u001b[1;33m)\u001b[0m\u001b[1;33m\u001b[0m\u001b[0m\n\u001b[1;32m--> 688\u001b[1;33m     \u001b[0mres\u001b[0m \u001b[1;33m=\u001b[0m \u001b[0mfig\u001b[0m\u001b[1;33m.\u001b[0m\u001b[0msavefig\u001b[0m\u001b[1;33m(\u001b[0m\u001b[1;33m*\u001b[0m\u001b[0margs\u001b[0m\u001b[1;33m,\u001b[0m \u001b[1;33m**\u001b[0m\u001b[0mkwargs\u001b[0m\u001b[1;33m)\u001b[0m\u001b[1;33m\u001b[0m\u001b[0m\n\u001b[0m\u001b[0;32m    689\u001b[0m     \u001b[0mfig\u001b[0m\u001b[1;33m.\u001b[0m\u001b[0mcanvas\u001b[0m\u001b[1;33m.\u001b[0m\u001b[0mdraw_idle\u001b[0m\u001b[1;33m(\u001b[0m\u001b[1;33m)\u001b[0m   \u001b[1;31m# need this if 'transparent=True' to reset colors\u001b[0m\u001b[1;33m\u001b[0m\u001b[0m\n\u001b[0;32m    690\u001b[0m     \u001b[1;32mreturn\u001b[0m \u001b[0mres\u001b[0m\u001b[1;33m\u001b[0m\u001b[0m\n",
      "\u001b[1;32m~\\AppData\\Local\\conda\\conda\\envs\\py35\\lib\\site-packages\\matplotlib\\figure.py\u001b[0m in \u001b[0;36msavefig\u001b[1;34m(self, fname, frameon, transparent, **kwargs)\u001b[0m\n\u001b[0;32m   2095\u001b[0m             \u001b[0mself\u001b[0m\u001b[1;33m.\u001b[0m\u001b[0mset_frameon\u001b[0m\u001b[1;33m(\u001b[0m\u001b[0mframeon\u001b[0m\u001b[1;33m)\u001b[0m\u001b[1;33m\u001b[0m\u001b[0m\n\u001b[0;32m   2096\u001b[0m \u001b[1;33m\u001b[0m\u001b[0m\n\u001b[1;32m-> 2097\u001b[1;33m         \u001b[0mself\u001b[0m\u001b[1;33m.\u001b[0m\u001b[0mcanvas\u001b[0m\u001b[1;33m.\u001b[0m\u001b[0mprint_figure\u001b[0m\u001b[1;33m(\u001b[0m\u001b[0mfname\u001b[0m\u001b[1;33m,\u001b[0m \u001b[1;33m**\u001b[0m\u001b[0mkwargs\u001b[0m\u001b[1;33m)\u001b[0m\u001b[1;33m\u001b[0m\u001b[0m\n\u001b[0m\u001b[0;32m   2098\u001b[0m \u001b[1;33m\u001b[0m\u001b[0m\n\u001b[0;32m   2099\u001b[0m         \u001b[1;32mif\u001b[0m \u001b[0mframeon\u001b[0m\u001b[1;33m:\u001b[0m\u001b[1;33m\u001b[0m\u001b[0m\n",
      "\u001b[1;32m~\\AppData\\Local\\conda\\conda\\envs\\py35\\lib\\site-packages\\matplotlib\\backend_bases.py\u001b[0m in \u001b[0;36mprint_figure\u001b[1;34m(self, filename, dpi, facecolor, edgecolor, orientation, format, bbox_inches, **kwargs)\u001b[0m\n\u001b[0;32m   2073\u001b[0m                     \u001b[0morientation\u001b[0m\u001b[1;33m=\u001b[0m\u001b[0morientation\u001b[0m\u001b[1;33m,\u001b[0m\u001b[1;33m\u001b[0m\u001b[0m\n\u001b[0;32m   2074\u001b[0m                     \u001b[0mbbox_inches_restore\u001b[0m\u001b[1;33m=\u001b[0m\u001b[0m_bbox_inches_restore\u001b[0m\u001b[1;33m,\u001b[0m\u001b[1;33m\u001b[0m\u001b[0m\n\u001b[1;32m-> 2075\u001b[1;33m                     **kwargs)\n\u001b[0m\u001b[0;32m   2076\u001b[0m             \u001b[1;32mfinally\u001b[0m\u001b[1;33m:\u001b[0m\u001b[1;33m\u001b[0m\u001b[0m\n\u001b[0;32m   2077\u001b[0m                 \u001b[1;32mif\u001b[0m \u001b[0mbbox_inches\u001b[0m \u001b[1;32mand\u001b[0m \u001b[0mrestore_bbox\u001b[0m\u001b[1;33m:\u001b[0m\u001b[1;33m\u001b[0m\u001b[0m\n",
      "\u001b[1;32m~\\AppData\\Local\\conda\\conda\\envs\\py35\\lib\\site-packages\\matplotlib\\backends\\backend_pdf.py\u001b[0m in \u001b[0;36mprint_pdf\u001b[1;34m(self, filename, dpi, bbox_inches_restore, metadata, **kwargs)\u001b[0m\n\u001b[0;32m   2556\u001b[0m             \u001b[0mfile\u001b[0m \u001b[1;33m=\u001b[0m \u001b[0mfilename\u001b[0m\u001b[1;33m.\u001b[0m\u001b[0m_file\u001b[0m\u001b[1;33m\u001b[0m\u001b[0m\n\u001b[0;32m   2557\u001b[0m         \u001b[1;32melse\u001b[0m\u001b[1;33m:\u001b[0m\u001b[1;33m\u001b[0m\u001b[0m\n\u001b[1;32m-> 2558\u001b[1;33m             \u001b[0mfile\u001b[0m \u001b[1;33m=\u001b[0m \u001b[0mPdfFile\u001b[0m\u001b[1;33m(\u001b[0m\u001b[0mfilename\u001b[0m\u001b[1;33m,\u001b[0m \u001b[0mmetadata\u001b[0m\u001b[1;33m=\u001b[0m\u001b[0mmetadata\u001b[0m\u001b[1;33m)\u001b[0m\u001b[1;33m\u001b[0m\u001b[0m\n\u001b[0m\u001b[0;32m   2559\u001b[0m         \u001b[1;32mtry\u001b[0m\u001b[1;33m:\u001b[0m\u001b[1;33m\u001b[0m\u001b[0m\n\u001b[0;32m   2560\u001b[0m             \u001b[0mfile\u001b[0m\u001b[1;33m.\u001b[0m\u001b[0mnewPage\u001b[0m\u001b[1;33m(\u001b[0m\u001b[0mwidth\u001b[0m\u001b[1;33m,\u001b[0m \u001b[0mheight\u001b[0m\u001b[1;33m)\u001b[0m\u001b[1;33m\u001b[0m\u001b[0m\n",
      "\u001b[1;32m~\\AppData\\Local\\conda\\conda\\envs\\py35\\lib\\site-packages\\matplotlib\\backends\\backend_pdf.py\u001b[0m in \u001b[0;36m__init__\u001b[1;34m(self, filename, metadata)\u001b[0m\n\u001b[0;32m    431\u001b[0m         \u001b[0mself\u001b[0m\u001b[1;33m.\u001b[0m\u001b[0moriginal_file_like\u001b[0m \u001b[1;33m=\u001b[0m \u001b[1;32mNone\u001b[0m\u001b[1;33m\u001b[0m\u001b[0m\n\u001b[0;32m    432\u001b[0m         \u001b[0mself\u001b[0m\u001b[1;33m.\u001b[0m\u001b[0mtell_base\u001b[0m \u001b[1;33m=\u001b[0m \u001b[1;36m0\u001b[0m\u001b[1;33m\u001b[0m\u001b[0m\n\u001b[1;32m--> 433\u001b[1;33m         \u001b[0mfh\u001b[0m\u001b[1;33m,\u001b[0m \u001b[0mopened\u001b[0m \u001b[1;33m=\u001b[0m \u001b[0mcbook\u001b[0m\u001b[1;33m.\u001b[0m\u001b[0mto_filehandle\u001b[0m\u001b[1;33m(\u001b[0m\u001b[0mfilename\u001b[0m\u001b[1;33m,\u001b[0m \u001b[1;34m\"wb\"\u001b[0m\u001b[1;33m,\u001b[0m \u001b[0mreturn_opened\u001b[0m\u001b[1;33m=\u001b[0m\u001b[1;32mTrue\u001b[0m\u001b[1;33m)\u001b[0m\u001b[1;33m\u001b[0m\u001b[0m\n\u001b[0m\u001b[0;32m    434\u001b[0m         \u001b[1;32mif\u001b[0m \u001b[1;32mnot\u001b[0m \u001b[0mopened\u001b[0m\u001b[1;33m:\u001b[0m\u001b[1;33m\u001b[0m\u001b[0m\n\u001b[0;32m    435\u001b[0m             \u001b[1;32mtry\u001b[0m\u001b[1;33m:\u001b[0m\u001b[1;33m\u001b[0m\u001b[0m\n",
      "\u001b[1;32m~\\AppData\\Local\\conda\\conda\\envs\\py35\\lib\\site-packages\\matplotlib\\cbook\\__init__.py\u001b[0m in \u001b[0;36mto_filehandle\u001b[1;34m(fname, flag, return_opened, encoding)\u001b[0m\n\u001b[0;32m    390\u001b[0m             \u001b[0mfh\u001b[0m \u001b[1;33m=\u001b[0m \u001b[0mbz2\u001b[0m\u001b[1;33m.\u001b[0m\u001b[0mBZ2File\u001b[0m\u001b[1;33m(\u001b[0m\u001b[0mfname\u001b[0m\u001b[1;33m,\u001b[0m \u001b[0mflag\u001b[0m\u001b[1;33m)\u001b[0m\u001b[1;33m\u001b[0m\u001b[0m\n\u001b[0;32m    391\u001b[0m         \u001b[1;32melse\u001b[0m\u001b[1;33m:\u001b[0m\u001b[1;33m\u001b[0m\u001b[0m\n\u001b[1;32m--> 392\u001b[1;33m             \u001b[0mfh\u001b[0m \u001b[1;33m=\u001b[0m \u001b[0mopen\u001b[0m\u001b[1;33m(\u001b[0m\u001b[0mfname\u001b[0m\u001b[1;33m,\u001b[0m \u001b[0mflag\u001b[0m\u001b[1;33m,\u001b[0m \u001b[0mencoding\u001b[0m\u001b[1;33m=\u001b[0m\u001b[0mencoding\u001b[0m\u001b[1;33m)\u001b[0m\u001b[1;33m\u001b[0m\u001b[0m\n\u001b[0m\u001b[0;32m    393\u001b[0m         \u001b[0mopened\u001b[0m \u001b[1;33m=\u001b[0m \u001b[1;32mTrue\u001b[0m\u001b[1;33m\u001b[0m\u001b[0m\n\u001b[0;32m    394\u001b[0m     \u001b[1;32melif\u001b[0m \u001b[0mhasattr\u001b[0m\u001b[1;33m(\u001b[0m\u001b[0mfname\u001b[0m\u001b[1;33m,\u001b[0m \u001b[1;34m'seek'\u001b[0m\u001b[1;33m)\u001b[0m\u001b[1;33m:\u001b[0m\u001b[1;33m\u001b[0m\u001b[0m\n",
      "\u001b[1;31mFileNotFoundError\u001b[0m: [Errno 2] No such file or directory: './pics/geo_asian_test2.pdf'"
     ]
    },
    {
     "data": {
      "image/png": "[encoded data removed]",
      "text/plain": [
       "<Figure size 432x288 with 1 Axes>"
      ]
     },
     "metadata": {
      "needs_background": "light"
     },
     "output_type": "display_data"
    }
   ],
   "source": [
    "plt.plot(t, path_test2[1], label = \"Test Path 2\")\n",
    "plt.legend()\n",
    "# plt.title(\"Test Path 2\")\n",
    "plt.xlabel(\"t\")\n",
    "plt.ylabel(r\"$Y_t$\")\n",
    "\n",
    "plt.savefig(\"./pics/geo_asian_test2.pdf\")\n",
    "plt.show()"
   ]
  },
  {
   "cell_type": "code",
   "execution_count": null,
   "metadata": {
    "colab": {},
    "colab_type": "code",
    "id": "m-BZ1nB9CO68",
    "scrolled": true
   },
   "outputs": [],
   "source": [
    "# comparison of true vs predicted solution of this path\n",
    "\n",
    "plt.plot(t, true_solution(path_test2[1]), \"m\", label = \"True\")\n",
    "plt.plot(t, solution_2[1], \"r--\", label = \"Pred\")\n",
    "plt.plot(T, terminal_condition(path_test2[1]), \"ko\", label = \"Terminal Value\")\n",
    "plt.legend()\n",
    "plt.xlabel(\"t\")\n",
    "plt.ylabel(r\"$f(Y_t)$\")\n",
    "plt.title(\"Solution of Test Path 2\")\n",
    "plt.savefig(\"./pics/geo_asian_sol2.pdf\")"
   ]
  },
  {
   "cell_type": "markdown",
   "metadata": {
    "colab": {},
    "colab_type": "code",
    "id": "uecwtWOYCO7Q",
    "scrolled": true
   },
   "source": [
    "## Test Another Path (Random Uniform)"
   ]
  },
  {
   "cell_type": "code",
   "execution_count": null,
   "metadata": {
    "colab": {},
    "colab_type": "code",
    "id": "4d304fgoCO7Y"
   },
   "outputs": [],
   "source": [
    "np.random.seed(5)\n",
    "\n",
    "path_test4 = np.tile(np.random.uniform(1, 3, steps+1), (M,1))\n",
    "pred_dict4 = {path: path_test4, time: time_feed}"
   ]
  },
  {
   "cell_type": "code",
   "execution_count": null,
   "metadata": {
    "colab": {},
    "colab_type": "code",
    "id": "5xXCWAvxCO7c"
   },
   "outputs": [],
   "source": [
    "solution_4, space_derivative_4, time_derivative_4 = sess.run([solution, space_derivative, time_derivative], pred_dict4)"
   ]
  },
  {
   "cell_type": "code",
   "execution_count": null,
   "metadata": {
    "colab": {},
    "colab_type": "code",
    "id": "2pnBkUroCO7g"
   },
   "outputs": [],
   "source": [
    "loss_4 = sess.run(loss, pred_dict4)\n",
    "loss_4"
   ]
  },
  {
   "cell_type": "code",
   "execution_count": null,
   "metadata": {
    "colab": {},
    "colab_type": "code",
    "id": "OzklfmdOCO7i"
   },
   "outputs": [],
   "source": [
    "plt.plot(t, path_test4[1], label = \"Test Path 3\")\n",
    "plt.legend()\n",
    "plt.xlabel(\"t\")\n",
    "plt.ylabel(r\"$Y_t$\")\n",
    "\n",
    "\n",
    "plt.savefig(\"./pics/geo_asian_test3.pdf\")\n",
    "plt.show()"
   ]
  },
  {
   "cell_type": "code",
   "execution_count": null,
   "metadata": {
    "colab": {},
    "colab_type": "code",
    "id": "BVzQXdFOCO7l"
   },
   "outputs": [],
   "source": [
    "# comparison of true vs predicted solution of this path\n",
    "\n",
    "plt.plot(t, true_solution(path_test4[1]),\"g\", label = \"True\")\n",
    "plt.plot(t, solution_4[1], \"r--\", label = \"Pred\")\n",
    "plt.plot(T, terminal_condition(path_test4[1]), \"ko\", label = \"Terminal Value\")\n",
    "plt.legend()\n",
    "plt.xlabel(\"t\")\n",
    "plt.ylabel(r\"$f(Y_t)$\")\n",
    "plt.title(\"Solution of Test Path 3\")\n",
    "plt.savefig(\"./pics/geo_asian_sol3.pdf\")"
   ]
  },
  {
   "cell_type": "code",
   "execution_count": null,
   "metadata": {
    "colab": {},
    "colab_type": "code",
    "id": "xSqR5da9CO7o"
   },
   "outputs": [],
   "source": [
    "plt.plot(t, path_test[2], \"b\", label = \"Test Path 1\")\n",
    "plt.plot(t, path_test2[1],\"m-.\", label = \"Test Path 2\")\n",
    "plt.plot(t, path_test4[1], \"g:\", label = \"Test Path 3\")\n",
    "\n",
    "plt.xlabel(\"t\")\n",
    "plt.ylabel(\"$Y_t$\")\n",
    "plt.legend()\n",
    "plt.savefig(\"./pics/geo_asian_paths.pdf\")"
   ]
  },
  {
   "cell_type": "code",
   "execution_count": null,
   "metadata": {},
   "outputs": [],
   "source": []
  }
 ],
 "metadata": {
  "accelerator": "TPU",
  "colab": {
   "name": "10_4_2019_geometric_asian.ipynb",
   "provenance": []
  },
  "kernelspec": {
   "display_name": "Python 3",
   "language": "python",
   "name": "python3"
  },
  "language_info": {
   "codemirror_mode": {
    "name": "ipython",
    "version": 3
   },
   "file_extension": ".py",
   "mimetype": "text/x-python",
   "name": "python",
   "nbconvert_exporter": "python",
   "pygments_lexer": "ipython3",
   "version": "3.5.6"
  }
 },
 "nbformat": 4,
 "nbformat_minor": 2
}
